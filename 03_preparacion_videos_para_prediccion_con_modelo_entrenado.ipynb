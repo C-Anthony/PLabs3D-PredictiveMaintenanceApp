{
 "cells": [
  {
   "cell_type": "markdown",
   "metadata": {},
   "source": [
    "### Modificacion de nuevos videos para la prediccion del modelo"
   ]
  },
  {
   "cell_type": "code",
   "execution_count": 3,
   "metadata": {},
   "outputs": [
    {
     "name": "stdout",
     "output_type": "stream",
     "text": [
      "Realizado video nº14 de 14\n",
      "Videos nuevos preparados...\n"
     ]
    }
   ],
   "source": [
    "import cv2\n",
    "import os, os.path\n",
    "from os import scandir, getcwd\n",
    "import numpy as np\n",
    "\n",
    "# Funcion para buscar archivos dentro de una carpeta definida\n",
    "def ls(ruta = getcwd()):\n",
    "    return [arch.name for arch in scandir(ruta) if arch.is_file()]\n",
    "\n",
    "# Setting origin directory and destination directory\n",
    "origin = 'videos_reales'\n",
    "destination = 'videos_reales/Modified_Videos'\n",
    "\n",
    "lista_videos=ls(origin)\n",
    "\n",
    "# Count number of files in the directory\n",
    "files_number = len(lista_videos)\n",
    "\n",
    "# Create destination file if not existing\n",
    "if not os.path.exists(destination):\n",
    "    os.makedirs(destination)\n",
    "\n",
    "# Set maximum number of frames\n",
    "max_frames = 372\n",
    "\n",
    "# Work on each video    \n",
    "for count, video in enumerate(lista_videos):\n",
    "    video_capture = cv2.VideoCapture(origin + '/' + video)\n",
    "\n",
    "    frame_width = 32\n",
    "    frame_height = 18\n",
    "    frames = int(video_capture.get(7))\n",
    "    fps = 30\n",
    "\n",
    "    frame_number = 0\n",
    "    # Read two frames, last and current, and convert current to gray.\n",
    "    ret, last_frame = video_capture.read()  # frame 0\n",
    "    ret, current_frame = video_capture.read() # frame 1\n",
    "    frame_number += 1\n",
    "    gray = cv2.cvtColor(current_frame, cv2.COLOR_BGR2GRAY)\n",
    "\n",
    "    # Set file destination name\n",
    "    if 'X' in video:\n",
    "        filename = '/Pred_X%d.mp4' % count\n",
    "    elif 'Y' in video:\n",
    "        filename = '/Pred_Y%d.mp4' % count\n",
    "    else:\n",
    "        filename = '/Pred_SC%d.mp4' % count\n",
    "    \n",
    "    # Set Output\n",
    "    out = cv2.VideoWriter(destination + filename,\n",
    "                          cv2.VideoWriter_fourcc('M','P','4','V'),\n",
    "                          fps,\n",
    "                          (frame_width, frame_height))\n",
    "    \n",
    "    while(True):\n",
    "        # We want two frames- last and current, so that we can calculate the different between them.\n",
    "        # Store the current frame as last_frame, and then read a new one\n",
    "        last_frame = current_frame\n",
    "\n",
    "        # Read a new frame and convert to grayscale\n",
    "        ret, current_frame = video_capture.read()\n",
    "        frame_number += 1\n",
    "\n",
    "        if ret == False and frame_number < max_frames or frame_number >= max_frames: # Counter to be evaluated here in order to avoid the last 49 frames + go until max_frame with last_frame of the video\n",
    "            blank_frame = np.zeros((frame_height, frame_width, 3), np.uint8)\n",
    "            while frame_number <= max_frames+1:\n",
    "                out.write(blank_frame)\n",
    "                frame_number += 1\n",
    "            break\n",
    "        gray = cv2.cvtColor(current_frame, cv2.COLOR_BGR2GRAY)\n",
    "\n",
    "        # Find the absolute difference between frames\n",
    "        diff = cv2.absdiff(last_frame, current_frame)        \n",
    "        \n",
    "        # Resize the video\n",
    "        diff = cv2.resize(diff,(frame_width,frame_height),fx=0,fy=0, interpolation = cv2.INTER_AREA)\n",
    "        \n",
    "        # Write the frame into the file defined in 'out'\n",
    "        out.write(diff)\n",
    "\n",
    "    # When everything done, release the capture\n",
    "    video_capture.release()\n",
    "    out.release()\n",
    "    \n",
    "    progreso = \"Realizado video nº%s de %s\" % (count+1, files_number)\n",
    "    print (progreso, end=\"\\r\")\n",
    "\n",
    "print(\"\\nVideos nuevos preparados...\")"
   ]
  },
  {
   "cell_type": "code",
   "execution_count": 13,
   "metadata": {},
   "outputs": [],
   "source": [
    "# Incase of bug, release videos\n",
    "video_capture.release()\n",
    "out.release()"
   ]
  },
  {
   "cell_type": "code",
   "execution_count": 4,
   "metadata": {},
   "outputs": [
    {
     "name": "stdout",
     "output_type": "stream",
     "text": [
      "Pred_SC3.mp4 372\n",
      "Pred_SC7.mp4 372\n",
      "Pred_SC8.mp4 372\n",
      "Pred_X0.mp4 372\n",
      "Pred_X1.mp4 372\n",
      "Pred_X2.mp4 372\n",
      "Pred_X4.mp4 372\n",
      "Pred_X5.mp4 372\n",
      "Pred_X6.mp4 372\n",
      "Pred_X9.mp4 372\n",
      "Pred_Y10.mp4 372\n",
      "Pred_Y11.mp4 372\n",
      "Pred_Y12.mp4 372\n",
      "Pred_Y13.mp4 372\n",
      "Numero de frames: 372 para 14 video(s)\n"
     ]
    }
   ],
   "source": [
    "# Verificacion que el numero de frame es igual en todos los videos\n",
    "lista_videos_modificados = ls('videos_reales/Modified_Videos')\n",
    "\n",
    "dic_frames = {}\n",
    "for video in lista_videos_modificados:\n",
    "    video_capture = cv2.VideoCapture('videos_reales/Modified_Videos/' + video)\n",
    "    frames = int(video_capture.get(7))\n",
    "    print(video,frames)\n",
    "    if frames not in dic_frames:\n",
    "        dic_frames[frames] = 1\n",
    "    else:\n",
    "        dic_frames[frames] += 1\n",
    "    \n",
    "    video_capture.release()\n",
    "\n",
    "for clave, valor in dic_frames.items():\n",
    "    print (\"Numero de frames: %s para %s video(s)\"   % (clave, valor))"
   ]
  }
 ],
 "metadata": {
  "kernelspec": {
   "display_name": "Python 3",
   "language": "python",
   "name": "python3"
  },
  "language_info": {
   "codemirror_mode": {
    "name": "ipython",
    "version": 3
   },
   "file_extension": ".py",
   "mimetype": "text/x-python",
   "name": "python",
   "nbconvert_exporter": "python",
   "pygments_lexer": "ipython3",
   "version": "3.8.8"
  }
 },
 "nbformat": 4,
 "nbformat_minor": 4
}
