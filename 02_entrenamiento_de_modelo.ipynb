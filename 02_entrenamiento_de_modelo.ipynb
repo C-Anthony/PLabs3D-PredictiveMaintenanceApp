{
 "cells": [
  {
   "cell_type": "markdown",
   "metadata": {},
   "source": [
    "### Entrenamiento del modelo"
   ]
  },
  {
   "cell_type": "code",
   "execution_count": 2,
   "metadata": {},
   "outputs": [],
   "source": [
    "import cv2\n",
    "import os\n",
    "import re\n",
    "from sklearn.model_selection import train_test_split\n",
    "import tensorflow\n",
    "from tensorflow.keras.models import Sequential, save_model, load_model\n",
    "from tensorflow.keras.layers import Dense, Flatten, Conv3D, MaxPooling3D, Dropout\n",
    "from tensorflow.keras.utils import to_categorical\n",
    "import numpy as np\n",
    "import matplotlib.pyplot as plt"
   ]
  },
  {
   "cell_type": "code",
   "execution_count": 2,
   "metadata": {},
   "outputs": [],
   "source": [
    "# -- Preparatory code --\n",
    "# Model configuration\n",
    "batch_size = 150\n",
    "no_epochs = 20\n",
    "learning_rate = 0.001\n",
    "no_classes = 2\n",
    "validation_split = 0.2\n",
    "verbosity = 1\n",
    "sample_shape = (372, 18, 32, 3)"
   ]
  },
  {
   "cell_type": "markdown",
   "metadata": {},
   "source": [
    "Format of the data must be: input_shape = (number of videos, number of frames per video, height, width, channels)\n",
    "\n",
    "That is to say: batch size, frames, height, width, channels)\n",
    "\n",
    "input_shape = (20, 372, 18, 32, 3)"
   ]
  },
  {
   "cell_type": "code",
   "execution_count": 4,
   "metadata": {},
   "outputs": [],
   "source": [
    "def video_to_array(filename):\n",
    "    cap = cv2.VideoCapture(filename)\n",
    "    frameCount = int(cap.get(cv2.CAP_PROP_FRAME_COUNT))\n",
    "    frameWidth = int(cap.get(cv2.CAP_PROP_FRAME_WIDTH))\n",
    "    frameHeight = int(cap.get(cv2.CAP_PROP_FRAME_HEIGHT))\n",
    "\n",
    "    video_array = np.empty((frameCount, frameHeight, frameWidth, 3), np.dtype('float32'))\n",
    "\n",
    "    fc = 0\n",
    "    ret = True\n",
    "\n",
    "    while (fc < frameCount  and ret):\n",
    "        ret, video_array[fc] = cap.read()\n",
    "        fc += 1\n",
    "\n",
    "    cap.release()\n",
    "\n",
    "    return video_array"
   ]
  },
  {
   "cell_type": "markdown",
   "metadata": {},
   "source": [
    "Work to do in order to define X and Y --> transform videos into arrays + get corresponding labels for each one"
   ]
  },
  {
   "cell_type": "code",
   "execution_count": 4,
   "metadata": {},
   "outputs": [
    {
     "name": "stdout",
     "output_type": "stream",
     "text": [
      "Leyendo videos de  C:\\Users\\tania\\0_PLabs3D\\clasificacion_videos\\Dataset\\\n",
      "C:\\Users\\tania\\0_PLabs3D\\clasificacion_videos\\Dataset\\PredominaX 200\n",
      "C:\\Users\\tania\\0_PLabs3D\\clasificacion_videos\\Dataset\\PredominaY 200\n",
      "Directorios leidos: 2\n",
      "Videos en cada directorio [200, 200]\n",
      "Suma Total de videos en subdirs: 400\n"
     ]
    }
   ],
   "source": [
    "dirname = os.path.join(os.getcwd(), 'Dataset')\n",
    "vidpath = dirname + os.sep\n",
    "\n",
    "videos = []\n",
    "directories = []\n",
    "dircount = []\n",
    "prevRoot=''\n",
    "cant=0\n",
    "\n",
    "print(\"Leyendo videos de \", vidpath)\n",
    "\n",
    "for root, dirnames, filenames in os.walk(vidpath):\n",
    "    for filename in filenames:\n",
    "        if re.search(\"\\.(mp4|mpeg|avi)$\", filename):\n",
    "            if prevRoot != root:\n",
    "                if prevRoot != '':\n",
    "                    print(prevRoot, cant)\n",
    "                prevRoot=root\n",
    "                directories.append(root)\n",
    "                dircount.append(cant)\n",
    "                cant=0\n",
    "            cant=cant+1\n",
    "            filepath = os.path.join(root, filename)\n",
    "            video = video_to_array(filepath)\n",
    "            video = video/255  # Pasar a negro o blanco (dentro del intervalo [0,1])\n",
    "            videos.append(video)\n",
    "            b = \"Leyendo...\" + str(cant)\n",
    "            print (b, end=\"\\r\")\n",
    "print(prevRoot, cant)\n",
    "dircount.append(cant)\n",
    "dircount = dircount[1:]\n",
    "print('Directorios leidos:',len(directories))\n",
    "print(\"Videos en cada directorio\", dircount)\n",
    "print('Suma Total de videos en subdirs:',sum(dircount))"
   ]
  },
  {
   "cell_type": "code",
   "execution_count": 5,
   "metadata": {},
   "outputs": [
    {
     "name": "stdout",
     "output_type": "stream",
     "text": [
      "Cantidad etiquetas creadas:  400\n",
      "0 PredominaX\n",
      "1 PredominaY\n",
      "Total number of outputs :  2\n",
      "Output classes :  [0 1]\n"
     ]
    }
   ],
   "source": [
    "labels=[]\n",
    "indice=0\n",
    "for cantidad in dircount:\n",
    "    for i in range(cantidad):\n",
    "        labels.append(indice)\n",
    "    indice=indice+1\n",
    "print(\"Cantidad etiquetas creadas: \",len(labels))\n",
    "\n",
    "movimientos=[]\n",
    "indice=0\n",
    "for directorio in directories:\n",
    "    name = directorio.split(os.sep)\n",
    "    print(indice , name[len(name)-1])\n",
    "    movimientos.append(name[len(name)-1])\n",
    "    indice=indice+1\n",
    "\n",
    "# Creacion de los datos finales\n",
    "    \n",
    "y = np.array(labels)\n",
    "# X = np.array(videos, dtype=np.uint8) #convierto de lista a numpy\n",
    "# X = np.concatenate(videos, axis=0 )  # Agrupo en un array la lista de arrays --> no funciona\n",
    "# X = np.array(videos, dtype=object) #convierto de lista a numpy\n",
    "X = np.empty((len(videos), *sample_shape), np.dtype('float32'))  # \n",
    "for indice, video in enumerate(videos):\n",
    "    X[indice] = video\n",
    "\n",
    "videos.clear()  # limpieza de la lista de video para ganar memoria\n",
    "    \n",
    "\n",
    "# Find the unique numbers from the train labels\n",
    "classes = np.unique(y)\n",
    "nClasses = len(classes)\n",
    "print('Total number of outputs : ', nClasses)\n",
    "print('Output classes : ', classes)"
   ]
  },
  {
   "cell_type": "code",
   "execution_count": 6,
   "metadata": {},
   "outputs": [
    {
     "name": "stdout",
     "output_type": "stream",
     "text": [
      "Training data shape :  (320, 372, 18, 32, 3) (320,)\n",
      "Testing data shape :  (80, 372, 18, 32, 3) (80,)\n",
      "(256, 372, 18, 32, 3) (64, 372, 18, 32, 3) (256, 2) (64, 2)\n"
     ]
    }
   ],
   "source": [
    "#Mezclar todo y crear los grupos de entrenamiento y testing\n",
    "train_X,test_X,train_Y,test_Y = train_test_split(X,y,test_size=0.2)\n",
    "print('Training data shape : ', train_X.shape, train_Y.shape)\n",
    "print('Testing data shape : ', test_X.shape, test_Y.shape)\n",
    "\n",
    "# Change the labels from categorical to one-hot encoding\n",
    "train_Y_one_hot = to_categorical(train_Y).astype(np.int32)\n",
    "test_Y_one_hot = to_categorical(test_Y).astype(np.int32)\n",
    "\n",
    "train_X,valid_X,train_label,valid_label = train_test_split(train_X, train_Y_one_hot, test_size=0.2, random_state=13)\n",
    "\n",
    "print(train_X.shape, valid_X.shape, train_label.shape, valid_label.shape)"
   ]
  },
  {
   "cell_type": "code",
   "execution_count": 7,
   "metadata": {},
   "outputs": [
    {
     "name": "stdout",
     "output_type": "stream",
     "text": [
      "Model: \"sequential\"\n",
      "_________________________________________________________________\n",
      "Layer (type)                 Output Shape              Param #   \n",
      "=================================================================\n",
      "conv3d (Conv3D)              (None, 370, 16, 30, 32)   2624      \n",
      "_________________________________________________________________\n",
      "max_pooling3d (MaxPooling3D) (None, 185, 8, 15, 32)    0         \n",
      "_________________________________________________________________\n",
      "dropout (Dropout)            (None, 185, 8, 15, 32)    0         \n",
      "_________________________________________________________________\n",
      "conv3d_1 (Conv3D)            (None, 183, 6, 13, 64)    55360     \n",
      "_________________________________________________________________\n",
      "max_pooling3d_1 (MaxPooling3 (None, 91, 3, 6, 64)      0         \n",
      "_________________________________________________________________\n",
      "dropout_1 (Dropout)          (None, 91, 3, 6, 64)      0         \n",
      "_________________________________________________________________\n",
      "flatten (Flatten)            (None, 104832)            0         \n",
      "_________________________________________________________________\n",
      "dense (Dense)                (None, 256)               26837248  \n",
      "_________________________________________________________________\n",
      "dense_1 (Dense)              (None, 2)                 514       \n",
      "=================================================================\n",
      "Total params: 26,895,746\n",
      "Trainable params: 26,895,746\n",
      "Non-trainable params: 0\n",
      "_________________________________________________________________\n"
     ]
    }
   ],
   "source": [
    "# Create the model\n",
    "model = Sequential()\n",
    "model.add(Conv3D(32, kernel_size=(3, 3, 3), activation='relu', kernel_initializer='he_uniform', input_shape=sample_shape))\n",
    "model.add(MaxPooling3D(pool_size=(2, 2, 2)))\n",
    "model.add(Dropout(0.5))\n",
    "model.add(Conv3D(64, kernel_size=(3, 3, 3), activation='relu', kernel_initializer='he_uniform'))\n",
    "model.add(MaxPooling3D(pool_size=(2, 2, 2)))\n",
    "model.add(Dropout(0.5))\n",
    "model.add(Flatten())\n",
    "model.add(Dense(256, activation='relu', kernel_initializer='he_uniform'))\n",
    "model.add(Dense(no_classes, activation='softmax'))\n",
    "\n",
    "# Print a summary of the network\n",
    "model.summary()"
   ]
  },
  {
   "cell_type": "code",
   "execution_count": 8,
   "metadata": {},
   "outputs": [
    {
     "name": "stdout",
     "output_type": "stream",
     "text": [
      "Epoch 1/20\n",
      "2/2 [==============================] - 74s 21s/step - loss: 0.5704 - accuracy: 0.4853 - val_loss: 0.0772 - val_accuracy: 0.9615\n",
      "Epoch 2/20\n",
      "2/2 [==============================] - 72s 21s/step - loss: 0.1322 - accuracy: 0.9461 - val_loss: 0.0533 - val_accuracy: 0.9808\n",
      "Epoch 3/20\n",
      "2/2 [==============================] - 73s 21s/step - loss: 0.1616 - accuracy: 0.9510 - val_loss: 0.0334 - val_accuracy: 0.9808\n",
      "Epoch 4/20\n",
      "2/2 [==============================] - 72s 22s/step - loss: 0.0158 - accuracy: 0.9951 - val_loss: 0.0728 - val_accuracy: 0.9808\n",
      "Epoch 5/20\n",
      "2/2 [==============================] - 73s 21s/step - loss: 0.2530 - accuracy: 0.9559 - val_loss: 0.0070 - val_accuracy: 1.0000\n",
      "Epoch 6/20\n",
      "2/2 [==============================] - 74s 21s/step - loss: 0.0601 - accuracy: 0.9853 - val_loss: 0.0868 - val_accuracy: 0.9808\n",
      "Epoch 7/20\n",
      "2/2 [==============================] - 70s 21s/step - loss: 0.0919 - accuracy: 0.9706 - val_loss: 0.1219 - val_accuracy: 0.9808\n",
      "Epoch 8/20\n",
      "2/2 [==============================] - 74s 21s/step - loss: 0.0903 - accuracy: 0.9608 - val_loss: 0.0042 - val_accuracy: 1.0000\n",
      "Epoch 9/20\n",
      "2/2 [==============================] - 74s 21s/step - loss: 0.0098 - accuracy: 1.0000 - val_loss: 0.0015 - val_accuracy: 1.0000\n",
      "Epoch 10/20\n",
      "2/2 [==============================] - 72s 21s/step - loss: 0.0400 - accuracy: 0.9804 - val_loss: 0.0062 - val_accuracy: 1.0000\n",
      "Epoch 11/20\n",
      "2/2 [==============================] - 71s 21s/step - loss: 0.0654 - accuracy: 0.9853 - val_loss: 0.0026 - val_accuracy: 1.0000\n",
      "Epoch 12/20\n",
      "2/2 [==============================] - 73s 21s/step - loss: 0.0258 - accuracy: 0.9902 - val_loss: 0.0015 - val_accuracy: 1.0000\n",
      "Epoch 13/20\n",
      "2/2 [==============================] - 73s 21s/step - loss: 0.0055 - accuracy: 1.0000 - val_loss: 0.0020 - val_accuracy: 1.0000\n",
      "Epoch 14/20\n",
      "2/2 [==============================] - 72s 21s/step - loss: 0.0142 - accuracy: 0.9902 - val_loss: 0.0027 - val_accuracy: 1.0000\n",
      "Epoch 15/20\n",
      "2/2 [==============================] - 72s 21s/step - loss: 0.0197 - accuracy: 0.9902 - val_loss: 0.0028 - val_accuracy: 1.0000\n",
      "Epoch 16/20\n",
      "2/2 [==============================] - 71s 21s/step - loss: 0.0170 - accuracy: 0.9902 - val_loss: 0.0024 - val_accuracy: 1.0000\n",
      "Epoch 17/20\n",
      "2/2 [==============================] - 71s 21s/step - loss: 0.0062 - accuracy: 1.0000 - val_loss: 0.0019 - val_accuracy: 1.0000\n",
      "Epoch 18/20\n",
      "2/2 [==============================] - 73s 21s/step - loss: 0.0045 - accuracy: 1.0000 - val_loss: 0.0015 - val_accuracy: 1.0000\n",
      "Epoch 19/20\n",
      "2/2 [==============================] - 73s 21s/step - loss: 0.0034 - accuracy: 1.0000 - val_loss: 0.0012 - val_accuracy: 1.0000\n",
      "Epoch 20/20\n",
      "2/2 [==============================] - 70s 21s/step - loss: 0.0061 - accuracy: 1.0000 - val_loss: 0.0010 - val_accuracy: 1.0000\n"
     ]
    }
   ],
   "source": [
    "# Compile the model\n",
    "model.compile(loss=tensorflow.keras.losses.categorical_crossentropy,\n",
    "              optimizer=tensorflow.keras.optimizers.Adam(learning_rate=learning_rate),\n",
    "              metrics=['accuracy'])\n",
    "\n",
    "# Fit data to model\n",
    "history = model.fit(train_X, \n",
    "                    train_label,\n",
    "                    batch_size=batch_size,\n",
    "                    epochs=no_epochs,\n",
    "                    verbose=verbosity,\n",
    "                    validation_split=validation_split)"
   ]
  },
  {
   "cell_type": "code",
   "execution_count": 9,
   "metadata": {},
   "outputs": [
    {
     "name": "stdout",
     "output_type": "stream",
     "text": [
      "2/2 [==============================] - 4s 2s/step - loss: 0.0071 - accuracy: 1.0000\n",
      "Test loss: 0.007126410957425833 / Test accuracy: 1.0\n"
     ]
    }
   ],
   "source": [
    "# Generate generalization metrics\n",
    "score = model.evaluate(valid_X, valid_label, verbose=1)\n",
    "print(f'Test loss: {score[0]} / Test accuracy: {score[1]}')"
   ]
  },
  {
   "cell_type": "code",
   "execution_count": 10,
   "metadata": {},
   "outputs": [
    {
     "data": {
      "image/png": "[encoded data removed]",
      "text/plain": [
       "<Figure size 432x288 with 1 Axes>"
      ]
     },
     "metadata": {
      "needs_background": "light"
     },
     "output_type": "display_data"
    }
   ],
   "source": [
    "# Plot history: Categorical crossentropy & Accuracy\n",
    "plt.plot(history.history['loss'], label='Categorical crossentropy (training data)')\n",
    "plt.plot(history.history['val_loss'], label='Categorical crossentropy (validation data)')\n",
    "plt.plot(history.history['accuracy'], label='Accuracy (training data)')\n",
    "plt.plot(history.history['val_accuracy'], label='Accuracy (validation data)')\n",
    "plt.title('Model performance for Video Analisis - Keras Conv3D')\n",
    "plt.ylabel('Loss value')\n",
    "plt.xlabel('No. epoch')\n",
    "plt.legend(bbox_to_anchor=(1.05, 1), loc='upper left', borderaxespad=0.)\n",
    "plt.show()"
   ]
  },
  {
   "cell_type": "code",
   "execution_count": 14,
   "metadata": {},
   "outputs": [
    {
     "name": "stdout",
     "output_type": "stream",
     "text": [
      "INFO:tensorflow:Assets written to: ./saved_model\\assets\n"
     ]
    }
   ],
   "source": [
    "# Saving model\n",
    "filepath = './saved_model'\n",
    "\n",
    "save_model(model, filepath)"
   ]
  },
  {
   "cell_type": "markdown",
   "metadata": {},
   "source": [
    "1-Obtenido un 75% con un batch de 20 y un numero de 30 epochs.\n",
    "\n",
    "2-Aumentando el batch a 100, 30 epochs, obtenemos un score de 100%. Pero testeando con otros videos, el resultado es de 29 aciertos sobre 30. El video en el que no acierta el modelo es un video de la impresion de una sola capa, de un pequeño rectangulo, con diferencia a los demas que imprimen varias capas. \n",
    "\n",
    "Se aprecia en el grafico que a partir de entre 20 y 25 epochs, el modelo no gana nada. Reduciremos el numero de epochs en 25.\n",
    "\n",
    "Se ve en el grafico tambien que hay ligero overfitting entre los epochs 5-10 y 13-17 aproximadamente. Intentaremos reducir este overfitting con Dropout\n",
    "\n",
    "3-El overfitting se ha reducido, por lo que nos quedamos con Dropout(). Obtenemos un score de 100% pero los videos cortos siguen sin clasificarse correctamente. Aun asi, podemos reducir todavia mas el numero de epochs a 20. Para subsanar el problema de los videos cortos que no se clasifican correctamente, amplio el numero de videos total a 500 (250+250). El batch se amplia a 150. ERROR, ordenador incapaz de hacerlo.\n",
    "El batch se dejara en 150, pero reducimos el numero de videos a 205+205 segun lo siguiente:\n",
    "Solucion alternativa, pasar mas videos problematicos (cortos) en los videos de entrenamiento. (añadidos 5 en cada una de las carpetas)\n",
    "\n",
    "4-Mismo problema, reduciendo el batch a 120, eliminando los 5 ultimos videos, quedandonos con los videos cortos\n",
    "\n",
    "5-Reducimos el batch a 100... Accuracy = 95%\n",
    "\n",
    "6-Con otro ordenador, pasamos el batch a 200. Accuracy = 100%, pero acierta 124 de las 128 predicciones. Probemos con un batch de 150 para reducir el overfitting.\n",
    "\n",
    "7-Con el batch de 150, y 20 epochs, tenemos una accuracy de 100%, y acierta 126 de las 128 predicciones. Es el mejor resultado obtenido."
   ]
  }
 ],
 "metadata": {
  "kernelspec": {
   "display_name": "Python 3",
   "language": "python",
   "name": "python3"
  },
  "language_info": {
   "codemirror_mode": {
    "name": "ipython",
    "version": 3
   },
   "file_extension": ".py",
   "mimetype": "text/x-python",
   "name": "python",
   "nbconvert_exporter": "python",
   "pygments_lexer": "ipython3",
   "version": "3.8.8"
  }
 },
 "nbformat": 4,
 "nbformat_minor": 4
}
