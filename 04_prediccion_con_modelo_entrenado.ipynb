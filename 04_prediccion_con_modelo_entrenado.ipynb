{
 "cells": [
  {
   "cell_type": "markdown",
   "metadata": {},
   "source": [
    "### Predicciones con videos que no pertenecen al grupo de videos de entrenamiento"
   ]
  },
  {
   "cell_type": "code",
   "execution_count": 1,
   "metadata": {},
   "outputs": [],
   "source": [
    "import cv2\n",
    "import os\n",
    "import re\n",
    "from sklearn.model_selection import train_test_split\n",
    "import tensorflow\n",
    "from tensorflow.keras.models import Sequential, save_model, load_model\n",
    "from tensorflow.keras.layers import Dense, Flatten, Conv3D, MaxPooling3D, Dropout\n",
    "from tensorflow.keras.utils import to_categorical\n",
    "import numpy as np\n",
    "import matplotlib.pyplot as plt"
   ]
  },
  {
   "cell_type": "code",
   "execution_count": 4,
   "metadata": {},
   "outputs": [],
   "source": [
    "def video_to_array(filename):\n",
    "    cap = cv2.VideoCapture(filename)\n",
    "    frameCount = int(cap.get(cv2.CAP_PROP_FRAME_COUNT))\n",
    "    frameWidth = int(cap.get(cv2.CAP_PROP_FRAME_WIDTH))\n",
    "    frameHeight = int(cap.get(cv2.CAP_PROP_FRAME_HEIGHT))\n",
    "\n",
    "    video_array = np.empty((frameCount, frameHeight, frameWidth, 3), np.dtype('float32'))\n",
    "\n",
    "    fc = 0\n",
    "    ret = True\n",
    "\n",
    "    while (fc < frameCount  and ret):\n",
    "        ret, video_array[fc] = cap.read()\n",
    "        fc += 1\n",
    "\n",
    "    cap.release()\n",
    "\n",
    "    return video_array"
   ]
  },
  {
   "cell_type": "code",
   "execution_count": 2,
   "metadata": {},
   "outputs": [
    {
     "name": "stdout",
     "output_type": "stream",
     "text": [
      "Model: \"sequential\"\n",
      "_________________________________________________________________\n",
      "Layer (type)                 Output Shape              Param #   \n",
      "=================================================================\n",
      "conv3d (Conv3D)              (None, 370, 16, 30, 32)   2624      \n",
      "_________________________________________________________________\n",
      "max_pooling3d (MaxPooling3D) (None, 185, 8, 15, 32)    0         \n",
      "_________________________________________________________________\n",
      "dropout (Dropout)            (None, 185, 8, 15, 32)    0         \n",
      "_________________________________________________________________\n",
      "conv3d_1 (Conv3D)            (None, 183, 6, 13, 64)    55360     \n",
      "_________________________________________________________________\n",
      "max_pooling3d_1 (MaxPooling3 (None, 91, 3, 6, 64)      0         \n",
      "_________________________________________________________________\n",
      "dropout_1 (Dropout)          (None, 91, 3, 6, 64)      0         \n",
      "_________________________________________________________________\n",
      "flatten (Flatten)            (None, 104832)            0         \n",
      "_________________________________________________________________\n",
      "dense (Dense)                (None, 256)               26837248  \n",
      "_________________________________________________________________\n",
      "dense_1 (Dense)              (None, 2)                 514       \n",
      "=================================================================\n",
      "Total params: 26,895,746\n",
      "Trainable params: 26,895,746\n",
      "Non-trainable params: 0\n",
      "_________________________________________________________________\n"
     ]
    }
   ],
   "source": [
    "# Load the model\n",
    "filepath = './saved_model'\n",
    "\n",
    "model = load_model(filepath, compile = True)\n",
    "model.summary()"
   ]
  },
  {
   "cell_type": "code",
   "execution_count": 12,
   "metadata": {},
   "outputs": [
    {
     "name": "stdout",
     "output_type": "stream",
     "text": [
      "(128, 372, 18, 32, 3)\n",
      "La prediccion deberia de darnos:  [0, 0, 0, 0, 0, 0, 0, 0, 0, 0, 0, 0, 0, 0, 0, 0, 0, 0, 0, 0, 0, 0, 0, 0, 0, 0, 0, 0, 0, 0, 0, 0, 0, 0, 0, 0, 0, 0, 0, 0, 0, 0, 0, 0, 0, 0, 0, 0, 0, 0, 0, 0, 0, 0, 0, 0, 0, 0, 0, 0, 0, 0, 0, 1, 1, 1, 1, 1, 1, 1, 1, 1, 1, 1, 1, 1, 1, 1, 1, 1, 1, 1, 1, 1, 1, 1, 1, 1, 1, 1, 1, 1, 1, 1, 1, 1, 1, 1, 1, 1, 1, 1, 1, 1, 1, 1, 1, 1, 1, 1, 1, 1, 1, 1, 1, 1, 1, 1, 1, 1, 1, 1, 1, 1, 1, 1, 1, 1]\n"
     ]
    }
   ],
   "source": [
    "# Test con varios videos aleatorios de X e Y\n",
    "directorypath = 'C:/Users/tania/0_Plabs3D/clasificacion_videos/Dataset_test/Predictions'\n",
    "\n",
    "samples_to_predict = []\n",
    "labels_verificacion = []\n",
    "\n",
    "for root, dirnames, filenames in os.walk(directorypath):\n",
    "    for filename in filenames:\n",
    "        if 'X' in filename:\n",
    "            labels_verificacion.append(0)\n",
    "        elif 'Y' in filename:\n",
    "            labels_verificacion.append(1)\n",
    "\n",
    "        video = video_to_array(directorypath + '/' + filename)\n",
    "        video = video/255  # Pasar a negro o blanco (dentro del intervalo [0,1])\n",
    "        \n",
    "        samples_to_predict.append(video)\n",
    "\n",
    "samples_to_predict = np.array(samples_to_predict)\n",
    "\n",
    "print(samples_to_predict.shape)"
   ]
  },
  {
   "cell_type": "code",
   "execution_count": 13,
   "metadata": {},
   "outputs": [
    {
     "name": "stdout",
     "output_type": "stream",
     "text": [
      "Etiquetas correctas  :  [0, 0, 0, 0, 0, 0, 0, 0, 0, 0, 0, 0, 0, 0, 0, 0, 0, 0, 0, 0, 0, 0, 0, 0, 0, 0, 0, 0, 0, 0, 0, 0, 0, 0, 0, 0, 0, 0, 0, 0, 0, 0, 0, 0, 0, 0, 0, 0, 0, 0, 0, 0, 0, 0, 0, 0, 0, 0, 0, 0, 0, 0, 0, 1, 1, 1, 1, 1, 1, 1, 1, 1, 1, 1, 1, 1, 1, 1, 1, 1, 1, 1, 1, 1, 1, 1, 1, 1, 1, 1, 1, 1, 1, 1, 1, 1, 1, 1, 1, 1, 1, 1, 1, 1, 1, 1, 1, 1, 1, 1, 1, 1, 1, 1, 1, 1, 1, 1, 1, 1, 1, 1, 1, 1, 1, 1, 1, 1]\n",
      "Prediccion del modelo:  [0 0 0 0 1 0 0 0 0 0 0 0 0 0 0 0 0 0 0 0 0 0 0 0 0 0 0 0 0 0 0 0 0 0 0 0 0\n",
      " 0 0 0 1 0 0 0 0 0 0 0 0 0 0 0 0 0 0 0 0 0 0 0 0 0 0 1 1 1 1 1 1 1 1 1 1 1\n",
      " 1 1 1 1 1 1 1 1 1 1 1 1 1 1 1 1 1 1 1 1 1 1 1 1 1 1 1 1 1 1 1 1 1 1 1 1 1\n",
      " 1 1 1 1 1 1 1 1 1 1 1 1 1 1 1 1 1]\n",
      "El modelo ha acertado 126 de 128 de las predicciones\n"
     ]
    }
   ],
   "source": [
    "predictions = model.predict(samples_to_predict)\n",
    "classes = np.argmax(predictions, axis = 1)\n",
    "print('Etiquetas correctas  : ', labels_verificacion)\n",
    "print('Prediccion del modelo: ', classes)\n",
    "\n",
    "score = 0\n",
    "for classe, label in zip(classes, labels_verificacion):\n",
    "    if classe == label:\n",
    "        score += 1\n",
    "\n",
    "total = len(classes)\n",
    "\n",
    "print('El modelo ha acertado %s de %s de las predicciones' % (score, total))"
   ]
  },
  {
   "cell_type": "code",
   "execution_count": 5,
   "metadata": {},
   "outputs": [
    {
     "name": "stdout",
     "output_type": "stream",
     "text": [
      "(14, 372, 18, 32, 3)\n"
     ]
    }
   ],
   "source": [
    "# Test con videos reales\n",
    "directorypath = 'C:/Users/tania/0_Plabs3D/clasificacion_videos/videos_reales/Modified_Videos'\n",
    "samples_to_predict = []\n",
    "labels_verificacion = []\n",
    "\n",
    "for root, dirnames, filenames in os.walk(directorypath):\n",
    "    for filename in filenames:\n",
    "        if 'X' in filename:\n",
    "            labels_verificacion.append(0)\n",
    "        elif 'Y' in filename:\n",
    "            labels_verificacion.append(1)\n",
    "        else:\n",
    "            labels_verificacion.append(2)\n",
    "\n",
    "        video = video_to_array(directorypath + '/' + filename)\n",
    "        video = video/255  # Pasar a negro o blanco (dentro del intervalo [0,1])\n",
    "        \n",
    "        samples_to_predict.append(video)\n",
    "\n",
    "samples_to_predict = np.array(samples_to_predict)\n",
    "\n",
    "print(samples_to_predict.shape)\n",
    "\n",
    "# print('La prediccion deberia de darnos: ', labels_verificacion)"
   ]
  },
  {
   "cell_type": "code",
   "execution_count": 6,
   "metadata": {},
   "outputs": [
    {
     "name": "stdout",
     "output_type": "stream",
     "text": [
      "Etiquetas correctas  :  [2, 2, 2, 0, 0, 0, 0, 0, 0, 0, 1, 1, 1, 1]\n",
      "Prediccion del modelo:  [0 0 0 0 0 0 0 1 0 1 0 0 1 1]\n",
      "El modelo ha acertado 7 de 14 de las predicciones\n"
     ]
    }
   ],
   "source": [
    "predictions = model.predict(samples_to_predict)\n",
    "classes = np.argmax(predictions, axis = 1)\n",
    "print('Etiquetas correctas  : ', labels_verificacion)\n",
    "print('Prediccion del modelo: ', classes)\n",
    "\n",
    "score = 0\n",
    "for classe, label in zip(classes, labels_verificacion):\n",
    "    if classe == label:\n",
    "        score += 1\n",
    "\n",
    "total = len(classes)\n",
    "\n",
    "print('El modelo ha acertado %s de %s de las predicciones' % (score, total))"
   ]
  }
 ],
 "metadata": {
  "kernelspec": {
   "display_name": "Python 3",
   "language": "python",
   "name": "python3"
  },
  "language_info": {
   "codemirror_mode": {
    "name": "ipython",
    "version": 3
   },
   "file_extension": ".py",
   "mimetype": "text/x-python",
   "name": "python",
   "nbconvert_exporter": "python",
   "pygments_lexer": "ipython3",
   "version": "3.8.5"
  }
 },
 "nbformat": 4,
 "nbformat_minor": 4
}
